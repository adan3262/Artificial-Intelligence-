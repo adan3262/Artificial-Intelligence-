{
  "nbformat": 4,
  "nbformat_minor": 0,
  "metadata": {
    "colab": {
      "provenance": [],
      "authorship_tag": "ABX9TyOg7CrmEEnrunqJGLqOq9fe",
      "include_colab_link": true
    },
    "kernelspec": {
      "name": "python3",
      "display_name": "Python 3"
    },
    "language_info": {
      "name": "python"
    }
  },
  "cells": [
    {
      "cell_type": "markdown",
      "metadata": {
        "id": "view-in-github",
        "colab_type": "text"
      },
      "source": [
        "<a href=\"https://colab.research.google.com/github/adan3262/Artificial-Intelligence-/blob/main/LabAssign1.ipynb\" target=\"_parent\"><img src=\"https://colab.research.google.com/assets/colab-badge.svg\" alt=\"Open In Colab\"/></a>"
      ]
    },
    {
      "cell_type": "code",
      "execution_count": 2,
      "metadata": {
        "colab": {
          "base_uri": "https://localhost:8080/"
        },
        "id": "v5EB0YRrKEPC",
        "outputId": "06eb4b7b-1544-4040-8ace-ecb6049db2d7"
      },
      "outputs": [
        {
          "output_type": "stream",
          "name": "stdout",
          "text": [
            "Shortest path: ['Islamabad', 'Lahore']\n"
          ]
        }
      ],
      "source": [
        "from collections import deque\n",
        "\n",
        "# Define the graph based on city connections\n",
        "graph = {\n",
        "    'Islamabad': ['Rawalpindi', 'Lahore', 'Peshawar'],\n",
        "    'Rawalpindi': ['Islamabad', 'Peshawar', 'Quetta'],\n",
        "    'Peshawar': ['Islamabad', 'Rawalpindi', 'Quetta'],\n",
        "    'Lahore': ['Islamabad', 'Multan', 'Quetta'],\n",
        "    'Multan': ['Lahore', 'Karachi', 'Quetta'],\n",
        "    'Quetta': ['Rawalpindi', 'Peshawar', 'Multan', 'Karachi'],\n",
        "    'Karachi': ['Multan', 'Quetta']\n",
        "}\n",
        "\n",
        "# BFS function to find the shortest path in terms of cities visited\n",
        "def bfs_shortest_path(graph, start, goal):\n",
        "\n",
        "\n",
        "    # Queue to store the current path\n",
        "    queue = deque([[start]])\n",
        "    visited = set()\n",
        "\n",
        "\n",
        "    while queue:\n",
        "        # Get the first path from the queue\n",
        "        path = queue.popleft()\n",
        "        city = path[-1]\n",
        "\n",
        "\n",
        "        # If the city is the goal, return the path\n",
        "        if city == goal:\n",
        "            return path\n",
        "\n",
        "\n",
        "        # If the city is not visited, mark it and explore its neighbors\n",
        "        if city not in visited:\n",
        "            visited.add(city)\n",
        "\n",
        "            for neighbor in graph[city]:\n",
        "                new_path = list(path)\n",
        "                new_path.append(neighbor)\n",
        "                queue.append(new_path)\n",
        "\n",
        "    return None\n",
        "\n",
        "# Example: Find the shortest path from Islamabad to Lahore\n",
        "shortest_path = bfs_shortest_path(graph, 'Islamabad', 'Lahore')\n",
        "print(\"Shortest path:\", shortest_path)\n"
      ]
    }
  ]
}